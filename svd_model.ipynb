{
 "cells": [
  {
   "cell_type": "code",
   "execution_count": 1,
   "metadata": {},
   "outputs": [],
   "source": [
    "import pandas as pd\n",
    "from sklearn import linear_model\n",
    "import pickle\n",
    "from surprise import SVD, Reader, Dataset\n",
    "from surprise.model_selection import train_test_split, GridSearchCV, RandomizedSearchCV\n",
    "from surprise import accuracy\n",
    "import ast"
   ]
  },
  {
   "cell_type": "code",
   "execution_count": 2,
   "metadata": {},
   "outputs": [],
   "source": [
    "df_low_cal_interactions = pd.read_csv('low_cal_interactions.csv')\n",
    "df_quick_interactions = pd.read_csv('quick_interactions.csv')\n",
    "df_low_cal_recipes = pd.read_csv('low_cal_recipes.csv')\n",
    "df_quick_recipes = pd.read_csv('quick_recipes.csv')"
   ]
  },
  {
   "cell_type": "code",
   "execution_count": 3,
   "metadata": {},
   "outputs": [
    {
     "data": {
      "text/plain": [
       "(549777, 536170, 112172, 112145)"
      ]
     },
     "execution_count": 3,
     "metadata": {},
     "output_type": "execute_result"
    }
   ],
   "source": [
    "len(df_low_cal_interactions), len(df_quick_interactions), len(df_low_cal_recipes), len(df_quick_recipes)"
   ]
  },
  {
   "cell_type": "code",
   "execution_count": 4,
   "metadata": {},
   "outputs": [],
   "source": [
    "def save_model(model, filename='svd_recommendation_model.pkl'):\n",
    "    with open(filename, 'wb') as file:\n",
    "        pickle.dump(model, file)\n",
    "    print(f\"Model saved to {filename}\")\n",
    "\n",
    "def load_model(filename='svd_recommendation_model.pkl'):\n",
    "    with open(filename, 'rb') as file:\n",
    "        loaded_model = pickle.load(file)\n",
    "    print(f\"Model loaded from {filename}\")\n",
    "    return loaded_model"
   ]
  },
  {
   "cell_type": "markdown",
   "metadata": {},
   "source": [
    "### 1. Latent Factor Model- Quick Recipes"
   ]
  },
  {
   "cell_type": "code",
   "execution_count": 5,
   "metadata": {},
   "outputs": [
    {
     "data": {
      "text/html": [
       "<div>\n",
       "<style scoped>\n",
       "    .dataframe tbody tr th:only-of-type {\n",
       "        vertical-align: middle;\n",
       "    }\n",
       "\n",
       "    .dataframe tbody tr th {\n",
       "        vertical-align: top;\n",
       "    }\n",
       "\n",
       "    .dataframe thead th {\n",
       "        text-align: right;\n",
       "    }\n",
       "</style>\n",
       "<table border=\"1\" class=\"dataframe\">\n",
       "  <thead>\n",
       "    <tr style=\"text-align: right;\">\n",
       "      <th></th>\n",
       "      <th>user_id</th>\n",
       "      <th>recipe_id</th>\n",
       "      <th>rating</th>\n",
       "    </tr>\n",
       "  </thead>\n",
       "  <tbody>\n",
       "    <tr>\n",
       "      <th>0</th>\n",
       "      <td>8937</td>\n",
       "      <td>44394</td>\n",
       "      <td>4</td>\n",
       "    </tr>\n",
       "    <tr>\n",
       "      <th>1</th>\n",
       "      <td>126440</td>\n",
       "      <td>85009</td>\n",
       "      <td>5</td>\n",
       "    </tr>\n",
       "    <tr>\n",
       "      <th>2</th>\n",
       "      <td>57222</td>\n",
       "      <td>85009</td>\n",
       "      <td>5</td>\n",
       "    </tr>\n",
       "    <tr>\n",
       "      <th>3</th>\n",
       "      <td>52282</td>\n",
       "      <td>120345</td>\n",
       "      <td>4</td>\n",
       "    </tr>\n",
       "    <tr>\n",
       "      <th>4</th>\n",
       "      <td>124416</td>\n",
       "      <td>120345</td>\n",
       "      <td>0</td>\n",
       "    </tr>\n",
       "  </tbody>\n",
       "</table>\n",
       "</div>"
      ],
      "text/plain": [
       "   user_id  recipe_id  rating\n",
       "0     8937      44394       4\n",
       "1   126440      85009       5\n",
       "2    57222      85009       5\n",
       "3    52282     120345       4\n",
       "4   124416     120345       0"
      ]
     },
     "execution_count": 5,
     "metadata": {},
     "output_type": "execute_result"
    }
   ],
   "source": [
    "df_quick_interactions.head()"
   ]
  },
  {
   "cell_type": "code",
   "execution_count": 7,
   "metadata": {},
   "outputs": [],
   "source": [
    "reader = Reader(rating_scale=(1, 5))\n",
    "\n",
    "data = Dataset.load_from_df(df_quick_interactions[['user_id', 'recipe_id', 'rating']], reader)\n",
    "trainset, testset = train_test_split(data, test_size=0.2, random_state=42)"
   ]
  },
  {
   "cell_type": "code",
   "execution_count": null,
   "metadata": {},
   "outputs": [],
   "source": [
    "param_distributions = {\n",
    "    'n_factors': [50, 100, 150],\n",
    "    'n_epochs': [20, 30, 50],\n",
    "    'lr_all': [0.005, 0.01, 0.02],\n",
    "    'reg_all': [0.02, 0.1, 0.4]\n",
    "}\n",
    "\n",
    "# Specify a lower number of iterations\n",
    "rs = RandomizedSearchCV(\n",
    "    SVD, \n",
    "    param_distributions, \n",
    "    measures=['rmse'], \n",
    "    cv=3, \n",
    "    n_iter=10\n",
    ")\n",
    "rs.fit(data)"
   ]
  },
  {
   "cell_type": "code",
   "execution_count": 12,
   "metadata": {},
   "outputs": [
    {
     "name": "stdout",
     "output_type": "stream",
     "text": [
      "Best RMSE score: 1.180469332097383\n",
      "Best parameters: {'n_factors': 100, 'n_epochs': 20, 'lr_all': 0.01, 'reg_all': 0.1}\n"
     ]
    }
   ],
   "source": [
    "print(\"Best RMSE score:\", rs.best_score['rmse'])\n",
    "print(\"Best parameters:\", rs.best_params['rmse'])"
   ]
  },
  {
   "cell_type": "code",
   "execution_count": 13,
   "metadata": {},
   "outputs": [
    {
     "data": {
      "text/plain": [
       "<surprise.prediction_algorithms.matrix_factorization.SVD at 0x207b5abfbc0>"
      ]
     },
     "execution_count": 13,
     "metadata": {},
     "output_type": "execute_result"
    }
   ],
   "source": [
    "best_params = rs.best_params['rmse']\n",
    "model1 = SVD(**best_params)\n",
    "model1.fit(trainset)"
   ]
  },
  {
   "cell_type": "code",
   "execution_count": 6,
   "metadata": {},
   "outputs": [
    {
     "name": "stdout",
     "output_type": "stream",
     "text": [
      "Model loaded from svd_quick_recommendation.pkl\n"
     ]
    }
   ],
   "source": [
    "model1 = load_model('svd_quick_recommendation.pkl')"
   ]
  },
  {
   "cell_type": "code",
   "execution_count": 8,
   "metadata": {},
   "outputs": [
    {
     "name": "stdout",
     "output_type": "stream",
     "text": [
      "MSE: 1.4038\n",
      "Test MSE: 1.4038390344299168\n"
     ]
    }
   ],
   "source": [
    "predictions = model1.test(testset)\n",
    "test_mse = accuracy.mse(predictions, verbose=True)\n",
    "print(f\"Test MSE: {test_mse}\")"
   ]
  },
  {
   "cell_type": "code",
   "execution_count": null,
   "metadata": {},
   "outputs": [
    {
     "name": "stdout",
     "output_type": "stream",
     "text": [
      "Model saved to svd_quick_recommendation.pkl\n"
     ]
    }
   ],
   "source": [
    "save_model(model1, 'svd_quick_recommendation.pkl')"
   ]
  },
  {
   "cell_type": "code",
   "execution_count": 17,
   "metadata": {},
   "outputs": [
    {
     "name": "stdout",
     "output_type": "stream",
     "text": [
      "Top 5 recommendations:\n",
      "       id  predicted_rating                                 name  minutes\n",
      "0   67425          4.935989             low carb root beer float        2\n",
      "1  259937          4.923255    honey browned trout   candy trout       35\n",
      "2  158082          4.915897  femmes  revenge caribbean curry mix       10\n",
      "3  160432          4.913225    peanut butter and pickle sandwich        5\n",
      "4   61245          4.903694                              fatoosh       30\n"
     ]
    }
   ],
   "source": [
    "def recommend_quick_recipes(user_id, model, all_items, df_quick_recipes, df_user_interactions, top_n=5):\n",
    "    already_rated = df_user_interactions[df_user_interactions['user_id'] == user_id]['recipe_id']\n",
    "    to_predict = [item for item in all_items if item not in already_rated]\n",
    "    recommendations = [(item, model.predict(user_id, item).est) for item in to_predict]\n",
    "    recommendations = sorted(recommendations, key=lambda x: x[1], reverse=True)[:top_n]\n",
    "    recommendations_df = pd.DataFrame(recommendations, columns=['id', 'predicted_rating'])\n",
    "    recommendations_df = recommendations_df.merge(\n",
    "        df_quick_recipes[['id', 'name', 'minutes']],\n",
    "        on='id',\n",
    "        how='inner'\n",
    "    )\n",
    "    return recommendations_df\n",
    "\n",
    "\n",
    "all_items = df_quick_recipes['id'].unique()\n",
    "user_id = 1\n",
    "\n",
    "# Get top 5 recommendations\n",
    "top_recommendations = recommend_quick_recipes(user_id, model1, all_items, all_recipes, all_interactions, top_n=5)\n",
    "\n",
    "# Display the top recommendations\n",
    "print(\"Top 5 recommendations:\")\n",
    "print(top_recommendations)"
   ]
  },
  {
   "cell_type": "markdown",
   "metadata": {},
   "source": [
    "### 2. Latent Factor Model- Low Calorie Recipes"
   ]
  },
  {
   "cell_type": "code",
   "execution_count": 16,
   "metadata": {},
   "outputs": [
    {
     "data": {
      "text/html": [
       "<div>\n",
       "<style scoped>\n",
       "    .dataframe tbody tr th:only-of-type {\n",
       "        vertical-align: middle;\n",
       "    }\n",
       "\n",
       "    .dataframe tbody tr th {\n",
       "        vertical-align: top;\n",
       "    }\n",
       "\n",
       "    .dataframe thead th {\n",
       "        text-align: right;\n",
       "    }\n",
       "</style>\n",
       "<table border=\"1\" class=\"dataframe\">\n",
       "  <thead>\n",
       "    <tr style=\"text-align: right;\">\n",
       "      <th></th>\n",
       "      <th>user_id</th>\n",
       "      <th>recipe_id</th>\n",
       "      <th>rating</th>\n",
       "    </tr>\n",
       "  </thead>\n",
       "  <tbody>\n",
       "    <tr>\n",
       "      <th>0</th>\n",
       "      <td>38094</td>\n",
       "      <td>40893</td>\n",
       "      <td>4</td>\n",
       "    </tr>\n",
       "    <tr>\n",
       "      <th>1</th>\n",
       "      <td>1293707</td>\n",
       "      <td>40893</td>\n",
       "      <td>5</td>\n",
       "    </tr>\n",
       "    <tr>\n",
       "      <th>2</th>\n",
       "      <td>8937</td>\n",
       "      <td>44394</td>\n",
       "      <td>4</td>\n",
       "    </tr>\n",
       "    <tr>\n",
       "      <th>3</th>\n",
       "      <td>202555</td>\n",
       "      <td>225241</td>\n",
       "      <td>5</td>\n",
       "    </tr>\n",
       "    <tr>\n",
       "      <th>4</th>\n",
       "      <td>353579</td>\n",
       "      <td>225241</td>\n",
       "      <td>5</td>\n",
       "    </tr>\n",
       "  </tbody>\n",
       "</table>\n",
       "</div>"
      ],
      "text/plain": [
       "   user_id  recipe_id  rating\n",
       "0    38094      40893       4\n",
       "1  1293707      40893       5\n",
       "2     8937      44394       4\n",
       "3   202555     225241       5\n",
       "4   353579     225241       5"
      ]
     },
     "execution_count": 16,
     "metadata": {},
     "output_type": "execute_result"
    }
   ],
   "source": [
    "df_low_cal_interactions.head()"
   ]
  },
  {
   "cell_type": "code",
   "execution_count": 17,
   "metadata": {},
   "outputs": [],
   "source": [
    "reader = Reader(rating_scale=(1, 5))\n",
    "\n",
    "data = Dataset.load_from_df(df_low_cal_interactions[['user_id', 'recipe_id', 'rating']], reader)\n",
    "trainset, testset = train_test_split(data, test_size=0.2, random_state=42)"
   ]
  },
  {
   "cell_type": "code",
   "execution_count": 21,
   "metadata": {},
   "outputs": [
    {
     "name": "stdout",
     "output_type": "stream",
     "text": [
      "Best RMSE score: 1.2045276875514885\n",
      "Best parameters: {'n_factors': 150, 'n_epochs': 20, 'lr_all': 0.005, 'reg_all': 0.4}\n"
     ]
    }
   ],
   "source": [
    "param_distributions = {\n",
    "    'n_factors': [50, 100, 150],\n",
    "    'n_epochs': [20, 30, 50],\n",
    "    'lr_all': [0.005, 0.01, 0.02],\n",
    "    'reg_all': [0.02, 0.1, 0.4]\n",
    "}\n",
    "\n",
    "# Specify a lower number of iterations\n",
    "rs = RandomizedSearchCV(\n",
    "    SVD, \n",
    "    param_distributions, \n",
    "    measures=['rmse'], \n",
    "    cv=3\n",
    ")\n",
    "rs.fit(data)\n",
    "print(\"Best RMSE score:\", rs.best_score['rmse'])\n",
    "print(\"Best parameters:\", rs.best_params['rmse'])"
   ]
  },
  {
   "cell_type": "code",
   "execution_count": 22,
   "metadata": {},
   "outputs": [
    {
     "data": {
      "text/plain": [
       "<surprise.prediction_algorithms.matrix_factorization.SVD at 0x216812df680>"
      ]
     },
     "execution_count": 22,
     "metadata": {},
     "output_type": "execute_result"
    }
   ],
   "source": [
    "best_params = rs.best_params['rmse']\n",
    "model2 = SVD(**best_params)\n",
    "model2.fit(trainset)"
   ]
  },
  {
   "cell_type": "code",
   "execution_count": 23,
   "metadata": {},
   "outputs": [
    {
     "name": "stdout",
     "output_type": "stream",
     "text": [
      "MSE: 1.4420\n",
      "Test MSE: 1.4420082438585737\n"
     ]
    }
   ],
   "source": [
    "predictions = model2.test(testset)\n",
    "test_mse = accuracy.mse(predictions, verbose=True)\n",
    "print(f\"Test MSE: {test_mse}\")"
   ]
  },
  {
   "cell_type": "code",
   "execution_count": 24,
   "metadata": {},
   "outputs": [
    {
     "name": "stdout",
     "output_type": "stream",
     "text": [
      "Model saved to svd_low_calorie_recommendation.pkl\n"
     ]
    }
   ],
   "source": [
    "save_model(model1, 'svd_low_calorie_recommendation.pkl')"
   ]
  },
  {
   "cell_type": "code",
   "execution_count": 23,
   "metadata": {},
   "outputs": [
    {
     "name": "stdout",
     "output_type": "stream",
     "text": [
      "Model loaded from svd_low_calorie_recommendation.pkl\n"
     ]
    }
   ],
   "source": [
    "model2 = load_model('svd_low_calorie_recommendation.pkl')"
   ]
  },
  {
   "cell_type": "code",
   "execution_count": 40,
   "metadata": {},
   "outputs": [
    {
     "name": "stdout",
     "output_type": "stream",
     "text": [
      "Top 5 recommendations:\n",
      "       id  predicted_rating                                 name  calories\n",
      "0   67425          4.935989             low carb root beer float     205.3\n",
      "1  158082          4.915897  femmes  revenge caribbean curry mix     216.8\n",
      "2   61245          4.903694                              fatoosh     161.3\n",
      "3   67778          4.900093     beet greens with bacon and onion     150.8\n",
      "4  204071          4.890263              easy microwave potatoes     174.3\n"
     ]
    }
   ],
   "source": [
    "def recommend_low_calorie_recipes(user_id, model, all_items, df_quick_recipes, df_user_interactions, top_n=5):\n",
    "    already_rated = df_user_interactions[df_user_interactions['user_id'] == user_id]['recipe_id']\n",
    "    to_predict = [item for item in all_items if item not in already_rated]\n",
    "    recommendations = [(item, model.predict(user_id, item).est) for item in to_predict]\n",
    "    recommendations = sorted(recommendations, key=lambda x: x[1], reverse=True)[:top_n]\n",
    "    recommendations_df = pd.DataFrame(recommendations, columns=['id', 'predicted_rating'])\n",
    "    recommendations_df = recommendations_df.merge(\n",
    "        df_quick_recipes[['id', 'name','calories']],\n",
    "        on='id',\n",
    "        how='inner'\n",
    "    )\n",
    "    return recommendations_df\n",
    "\n",
    "\n",
    "all_items = df_low_cal_recipes['id'].unique()\n",
    "\n",
    "user_id = df_low_cal_interactions['user_id'].sample(1).iloc[0]\n",
    "\n",
    "# Get top 5 recommendations\n",
    "top_recommendations = recommend_low_calorie_recipes(user_id, model2, all_items, df_low_cal_recipes, df_low_cal_interactions, top_n=5)\n",
    "\n",
    "# Display the top recommendations\n",
    "print(\"Top 5 recommendations:\")\n",
    "print(top_recommendations)"
   ]
  },
  {
   "cell_type": "markdown",
   "metadata": {},
   "source": [
    "### 3. Latent Factor Model- All Data"
   ]
  },
  {
   "cell_type": "markdown",
   "metadata": {},
   "source": [
    "##### 3.1 Initial Preprocessing for All Data"
   ]
  },
  {
   "cell_type": "code",
   "execution_count": 9,
   "metadata": {},
   "outputs": [],
   "source": [
    "# Dataframe for all recipes with relevant columns\n",
    "raw_recipes = pd.read_csv(\"RAW_recipes.csv\")\n",
    "columns_to_keep = [\"name\", \"id\", \"minutes\", \"nutrition\"]\n",
    "raw_recipes = raw_recipes[columns_to_keep]\n",
    "raw_recipes[\"calories\"] = raw_recipes[\"nutrition\"].apply(lambda x: ast.literal_eval(x)[0] if pd.notna(x) else None)\n",
    "raw_recipes = raw_recipes.drop(columns=[\"nutrition\"])\n",
    "\n",
    "# Dataframe for all interactions with relevant columns\n",
    "raw_interactions = pd.read_csv(\"RAW_interactions.csv\")\n",
    "columns_to_keep = [\"user_id\", \"recipe_id\", \"rating\"]\n",
    "raw_interactions = raw_interactions[columns_to_keep]"
   ]
  },
  {
   "cell_type": "code",
   "execution_count": 10,
   "metadata": {},
   "outputs": [
    {
     "name": "stdout",
     "output_type": "stream",
     "text": [
      "Number of rows dropped: 7326\n"
     ]
    }
   ],
   "source": [
    "# Filter out rows of recipes where 10 < \"calories\" < 2000\n",
    "initial_count = len(raw_recipes)\n",
    "raw_recipes = raw_recipes[raw_recipes[\"calories\"] <= 2000]\n",
    "raw_recipes = raw_recipes[raw_recipes[\"calories\"] > 10]\n",
    "final_count = len(raw_recipes)\n",
    "rows_dropped = initial_count - final_count\n",
    "print(f\"Number of rows dropped: {rows_dropped}\")"
   ]
  },
  {
   "cell_type": "code",
   "execution_count": 11,
   "metadata": {},
   "outputs": [
    {
     "name": "stdout",
     "output_type": "stream",
     "text": [
      "Number of rows dropped: 9593\n"
     ]
    }
   ],
   "source": [
    "# Filter out rows of recipes where \"minutes\" > 300\n",
    "initial_count = len(raw_recipes)\n",
    "raw_recipes = raw_recipes[raw_recipes[\"minutes\"] <= 300]\n",
    "all_recipes = raw_recipes[raw_recipes[\"minutes\"] > 0]\n",
    "final_count = len(raw_recipes)\n",
    "rows_dropped = initial_count - final_count\n",
    "print(f\"Number of rows dropped: {rows_dropped}\")"
   ]
  },
  {
   "cell_type": "code",
   "execution_count": 12,
   "metadata": {},
   "outputs": [
    {
     "data": {
      "text/html": [
       "<div>\n",
       "<style scoped>\n",
       "    .dataframe tbody tr th:only-of-type {\n",
       "        vertical-align: middle;\n",
       "    }\n",
       "\n",
       "    .dataframe tbody tr th {\n",
       "        vertical-align: top;\n",
       "    }\n",
       "\n",
       "    .dataframe thead th {\n",
       "        text-align: right;\n",
       "    }\n",
       "</style>\n",
       "<table border=\"1\" class=\"dataframe\">\n",
       "  <thead>\n",
       "    <tr style=\"text-align: right;\">\n",
       "      <th></th>\n",
       "      <th>name</th>\n",
       "      <th>id</th>\n",
       "      <th>minutes</th>\n",
       "      <th>calories</th>\n",
       "    </tr>\n",
       "  </thead>\n",
       "  <tbody>\n",
       "    <tr>\n",
       "      <th>0</th>\n",
       "      <td>arriba   baked winter squash mexican style</td>\n",
       "      <td>137739</td>\n",
       "      <td>55</td>\n",
       "      <td>51.5</td>\n",
       "    </tr>\n",
       "    <tr>\n",
       "      <th>1</th>\n",
       "      <td>a bit different  breakfast pizza</td>\n",
       "      <td>31490</td>\n",
       "      <td>30</td>\n",
       "      <td>173.4</td>\n",
       "    </tr>\n",
       "    <tr>\n",
       "      <th>2</th>\n",
       "      <td>all in the kitchen  chili</td>\n",
       "      <td>112140</td>\n",
       "      <td>130</td>\n",
       "      <td>269.8</td>\n",
       "    </tr>\n",
       "    <tr>\n",
       "      <th>3</th>\n",
       "      <td>alouette  potatoes</td>\n",
       "      <td>59389</td>\n",
       "      <td>45</td>\n",
       "      <td>368.1</td>\n",
       "    </tr>\n",
       "    <tr>\n",
       "      <th>4</th>\n",
       "      <td>amish  tomato ketchup  for canning</td>\n",
       "      <td>44061</td>\n",
       "      <td>190</td>\n",
       "      <td>352.9</td>\n",
       "    </tr>\n",
       "  </tbody>\n",
       "</table>\n",
       "</div>"
      ],
      "text/plain": [
       "                                         name      id  minutes  calories\n",
       "0  arriba   baked winter squash mexican style  137739       55      51.5\n",
       "1            a bit different  breakfast pizza   31490       30     173.4\n",
       "2                   all in the kitchen  chili  112140      130     269.8\n",
       "3                          alouette  potatoes   59389       45     368.1\n",
       "4          amish  tomato ketchup  for canning   44061      190     352.9"
      ]
     },
     "execution_count": 12,
     "metadata": {},
     "output_type": "execute_result"
    }
   ],
   "source": [
    "raw_recipes.head()"
   ]
  },
  {
   "cell_type": "code",
   "execution_count": 13,
   "metadata": {},
   "outputs": [],
   "source": [
    "# Filter out interactions where \"recipe_id\" is in current \"raw_recipes\"\n",
    "all_recipe_ids = set(raw_recipes[\"id\"])  # faster lookup\n",
    "all_interactions = raw_interactions[raw_interactions[\"recipe_id\"].isin(all_recipe_ids)]"
   ]
  },
  {
   "cell_type": "code",
   "execution_count": 14,
   "metadata": {},
   "outputs": [
    {
     "data": {
      "text/plain": [
       "(213751, 1044830)"
      ]
     },
     "execution_count": 14,
     "metadata": {},
     "output_type": "execute_result"
    }
   ],
   "source": [
    "len(all_recipes), len(all_interactions)"
   ]
  },
  {
   "cell_type": "markdown",
   "metadata": {},
   "source": [
    "##### 3.2 Actual Model"
   ]
  },
  {
   "cell_type": "code",
   "execution_count": 32,
   "metadata": {},
   "outputs": [],
   "source": [
    "reader = Reader(rating_scale=(1, 5))\n",
    "\n",
    "data = Dataset.load_from_df(all_interactions[['user_id', 'recipe_id', 'rating']], reader)\n",
    "trainset, testset = train_test_split(data, test_size=0.2, random_state=42)"
   ]
  },
  {
   "cell_type": "code",
   "execution_count": 33,
   "metadata": {},
   "outputs": [
    {
     "name": "stdout",
     "output_type": "stream",
     "text": [
      "Best RMSE score: 1.2075001456080559\n",
      "Best parameters: {'n_factors': 50, 'n_epochs': 20, 'lr_all': 0.005, 'reg_all': 0.1}\n"
     ]
    }
   ],
   "source": [
    "param_distributions = {\n",
    "    'n_factors': [50, 100, 150],\n",
    "    'n_epochs': [20, 30, 50],\n",
    "    'lr_all': [0.005, 0.01, 0.02],\n",
    "    'reg_all': [0.02, 0.1, 0.4]\n",
    "}\n",
    "\n",
    "# Specify a lower number of iterations\n",
    "rs = RandomizedSearchCV(\n",
    "    SVD, \n",
    "    param_distributions, \n",
    "    measures=['rmse'], \n",
    "    cv=3,\n",
    "    n_iter=10\n",
    ")\n",
    "rs.fit(data)\n",
    "print(\"Best RMSE score:\", rs.best_score['rmse'])\n",
    "print(\"Best parameters:\", rs.best_params['rmse'])"
   ]
  },
  {
   "cell_type": "code",
   "execution_count": 34,
   "metadata": {},
   "outputs": [
    {
     "data": {
      "text/plain": [
       "<surprise.prediction_algorithms.matrix_factorization.SVD at 0x21681b14b90>"
      ]
     },
     "execution_count": 34,
     "metadata": {},
     "output_type": "execute_result"
    }
   ],
   "source": [
    "best_params = rs.best_params['rmse']\n",
    "model3 = SVD(**best_params)\n",
    "model3.fit(trainset)"
   ]
  },
  {
   "cell_type": "code",
   "execution_count": 35,
   "metadata": {},
   "outputs": [
    {
     "name": "stdout",
     "output_type": "stream",
     "text": [
      "MSE: 1.4429\n",
      "Test MSE: 1.4429245345548554\n"
     ]
    }
   ],
   "source": [
    "predictions = model3.test(testset)\n",
    "test_mse = accuracy.mse(predictions, verbose=True)\n",
    "print(f\"Test MSE: {test_mse}\")"
   ]
  },
  {
   "cell_type": "code",
   "execution_count": 36,
   "metadata": {},
   "outputs": [
    {
     "name": "stdout",
     "output_type": "stream",
     "text": [
      "Model saved to svd_overall_recommendation.pkl\n"
     ]
    }
   ],
   "source": [
    "save_model(model1, 'svd_overall_recommendation.pkl')"
   ]
  },
  {
   "cell_type": "code",
   "execution_count": 42,
   "metadata": {},
   "outputs": [
    {
     "name": "stdout",
     "output_type": "stream",
     "text": [
      "Model loaded from svd_overall_recommendation.pkl\n"
     ]
    }
   ],
   "source": [
    "model3 = load_model('svd_overall_recommendation.pkl')"
   ]
  },
  {
   "cell_type": "code",
   "execution_count": 59,
   "metadata": {},
   "outputs": [
    {
     "name": "stdout",
     "output_type": "stream",
     "text": [
      "Top 5 recommendations:\n",
      "       id  predicted_rating                                   name  calories  \\\n",
      "0  123373                 5  albacore tuna and bow tie pasta salad     294.7   \n",
      "1   27067                 5                 asparagus beef skillet     150.0   \n",
      "2   95640                 5           avocado tortilla chip rounds     147.8   \n",
      "3   83814                 5                 bacon and egg sandwich     394.2   \n",
      "4  110803                 5           balsamic shallot green beans     103.7   \n",
      "\n",
      "   minutes  \n",
      "0       30  \n",
      "1       35  \n",
      "2       10  \n",
      "3       20  \n",
      "4       30  \n"
     ]
    }
   ],
   "source": [
    "def recommend_good_recipes(user_id, model, all_items, df_quick_recipes, df_user_interactions, top_n=5):\n",
    "    already_rated = df_user_interactions[df_user_interactions['user_id'] == user_id]['recipe_id']\n",
    "    to_predict = [item for item in all_items if item not in already_rated]\n",
    "    recommendations = [(item, model.predict(user_id, item).est) for item in to_predict]\n",
    "    recommendations = sorted(recommendations, key=lambda x: x[1], reverse=True)[:top_n]\n",
    "    recommendations_df = pd.DataFrame(recommendations, columns=['id', 'predicted_rating'])\n",
    "    recommendations_df = recommendations_df.merge(\n",
    "        df_quick_recipes[['id', 'name','calories', 'minutes']],\n",
    "        on='id',\n",
    "        how='inner'\n",
    "    )\n",
    "    return recommendations_df\n",
    "\n",
    "all_items = all_recipes['id'].unique()\n",
    "\n",
    "# randomized user\n",
    "user_id = all_interactions['user_id'].sample(1).iloc[0]\n",
    "\n",
    "# Get top 5 recommendations\n",
    "top_recommendations = recommend_good_recipes(user_id, model3, all_items, all_recipes, all_interactions, top_n=5)\n",
    "\n",
    "# Display the top recommendations\n",
    "print(\"Top 5 recommendations:\")\n",
    "print(top_recommendations)"
   ]
  }
 ],
 "metadata": {
  "kernelspec": {
   "display_name": "Python 3",
   "language": "python",
   "name": "python3"
  },
  "language_info": {
   "codemirror_mode": {
    "name": "ipython",
    "version": 3
   },
   "file_extension": ".py",
   "mimetype": "text/x-python",
   "name": "python",
   "nbconvert_exporter": "python",
   "pygments_lexer": "ipython3",
   "version": "3.12.7"
  }
 },
 "nbformat": 4,
 "nbformat_minor": 2
}
